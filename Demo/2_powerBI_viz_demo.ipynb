{
 "cells": [
  {
   "cell_type": "markdown",
   "id": "ce1426e9",
   "metadata": {},
   "source": [
    "# Demo - Create Power BI Reports Quickly in Jupyter Notebooks\n",
    "The following notebook demonstrates how to quickly create Power BI reports from your data in Jupyter notebooks. \n",
    "The notebook will walk through the steps of authenticating to Power BI, importing and processing data, and auto-generating a Power BI report, all within the notebook.\n",
    "\n",
    "These reports can be used to explore your data, or as a starting point for creating a custom report. Interacting with the report is simple and empowers you to explore your data with just a few simple steps.\n"
   ]
  },
  {
   "cell_type": "code",
   "execution_count": 1,
   "id": "e44c1a00-3f29-4db8-8c18-d6a145875e4b",
   "metadata": {},
   "outputs": [],
   "source": [
    "from powerbiclient import QuickVisualize, get_dataset_config, Report\n",
    "from powerbiclient.authentication import DeviceCodeLoginAuthentication\n",
    "from powerbiclient.authentication import InteractiveLoginAuthentication\n",
    "import pandas as pd"
   ]
  },
  {
   "cell_type": "markdown",
   "id": "784a34f9",
   "metadata": {},
   "source": [
    "### Authenticate to Power BI\n",
    "\n",
    "#### The following authentication methods can be used to authenticate the user and get the access token:\n",
    "\n",
    "- [Device flow authentication](https://msal-python.readthedocs.io/en/latest/#msal.PublicClientApplication.acquire_token_by_device_flow)\n",
    "    \n",
    "    Code snippet:\n",
    "    ``` py\n",
    "  from powerbiclient.authentication import DeviceCodeLoginAuthentication\n",
    "  device_auth = DeviceCodeLoginAuthentication()\n",
    "    ```\n",
    "- [Interactive authentication](https://msal-python.readthedocs.io/en/latest/#msal.PublicClientApplication.acquire_token_interactive)\n",
    "    \n",
    "    Code snippet:\n",
    "    ``` py\n",
    "  from powerbiclient.authentication import InteractiveLoginAuthentication\n",
    "  interactive_auth = InteractiveLoginAuthentication()    \n",
    "    ```\n",
    "\n",
    "Note: Either use auth object created or access token acquired above while creating the report instance\n"
   ]
  },
  {
   "cell_type": "markdown",
   "id": "81ce840c",
   "metadata": {},
   "source": [
    "#### Run the cell below and follow the steps in the output to obtain the auth object using the Device Flow Authentication method for the demo notebook"
   ]
  },
  {
   "cell_type": "code",
   "execution_count": 2,
   "id": "48cc7836",
   "metadata": {},
   "outputs": [
    {
     "name": "stdout",
     "output_type": "stream",
     "text": [
      "A local browser window will open for interactive sign in.\n",
      "\n",
      "Interactive authentication successfully completed.\n",
      "You are now logged in.\n",
      "\n",
      "The result should be passed only to trusted code in your notebook.\n"
     ]
    }
   ],
   "source": [
    "interactive_auth = InteractiveLoginAuthentication() "
   ]
  },
  {
   "cell_type": "markdown",
   "id": "93c8d2fd",
   "metadata": {},
   "source": [
    "### Import and process data\n",
    "The code below is used to import a sample dataset as a pandas DataFrame and preform basic preprocessing on it. Make sure you've downloaded the sample csv file, located in the Demo folder"
   ]
  },
  {
   "cell_type": "code",
   "execution_count": 3,
   "id": "4eb1d652",
   "metadata": {},
   "outputs": [
    {
     "data": {
      "text/html": [
       "<div>\n",
       "<style scoped>\n",
       "    .dataframe tbody tr th:only-of-type {\n",
       "        vertical-align: middle;\n",
       "    }\n",
       "\n",
       "    .dataframe tbody tr th {\n",
       "        vertical-align: top;\n",
       "    }\n",
       "\n",
       "    .dataframe thead th {\n",
       "        text-align: right;\n",
       "    }\n",
       "</style>\n",
       "<table border=\"1\" class=\"dataframe\">\n",
       "  <thead>\n",
       "    <tr style=\"text-align: right;\">\n",
       "      <th></th>\n",
       "      <th>anime_id</th>\n",
       "      <th>name</th>\n",
       "      <th>genre</th>\n",
       "      <th>type</th>\n",
       "      <th>episodes</th>\n",
       "      <th>rating</th>\n",
       "      <th>members</th>\n",
       "    </tr>\n",
       "  </thead>\n",
       "  <tbody>\n",
       "    <tr>\n",
       "      <th>0</th>\n",
       "      <td>32281</td>\n",
       "      <td>Kimi no Na wa.</td>\n",
       "      <td>Drama, Romance, School, Supernatural</td>\n",
       "      <td>Movie</td>\n",
       "      <td>1</td>\n",
       "      <td>9.37</td>\n",
       "      <td>200630</td>\n",
       "    </tr>\n",
       "    <tr>\n",
       "      <th>1</th>\n",
       "      <td>5114</td>\n",
       "      <td>Fullmetal Alchemist: Brotherhood</td>\n",
       "      <td>Action, Adventure, Drama, Fantasy, Magic, Mili...</td>\n",
       "      <td>TV</td>\n",
       "      <td>64</td>\n",
       "      <td>9.26</td>\n",
       "      <td>793665</td>\n",
       "    </tr>\n",
       "    <tr>\n",
       "      <th>2</th>\n",
       "      <td>28977</td>\n",
       "      <td>Gintama°</td>\n",
       "      <td>Action, Comedy, Historical, Parody, Samurai, S...</td>\n",
       "      <td>TV</td>\n",
       "      <td>51</td>\n",
       "      <td>9.25</td>\n",
       "      <td>114262</td>\n",
       "    </tr>\n",
       "    <tr>\n",
       "      <th>3</th>\n",
       "      <td>9253</td>\n",
       "      <td>Steins;Gate</td>\n",
       "      <td>Sci-Fi, Thriller</td>\n",
       "      <td>TV</td>\n",
       "      <td>24</td>\n",
       "      <td>9.17</td>\n",
       "      <td>673572</td>\n",
       "    </tr>\n",
       "    <tr>\n",
       "      <th>4</th>\n",
       "      <td>9969</td>\n",
       "      <td>Gintama&amp;#039;</td>\n",
       "      <td>Action, Comedy, Historical, Parody, Samurai, S...</td>\n",
       "      <td>TV</td>\n",
       "      <td>51</td>\n",
       "      <td>9.16</td>\n",
       "      <td>151266</td>\n",
       "    </tr>\n",
       "  </tbody>\n",
       "</table>\n",
       "</div>"
      ],
      "text/plain": [
       "   anime_id                              name  \\\n",
       "0     32281                    Kimi no Na wa.   \n",
       "1      5114  Fullmetal Alchemist: Brotherhood   \n",
       "2     28977                          Gintama°   \n",
       "3      9253                       Steins;Gate   \n",
       "4      9969                     Gintama&#039;   \n",
       "\n",
       "                                               genre   type episodes  rating  \\\n",
       "0               Drama, Romance, School, Supernatural  Movie        1    9.37   \n",
       "1  Action, Adventure, Drama, Fantasy, Magic, Mili...     TV       64    9.26   \n",
       "2  Action, Comedy, Historical, Parody, Samurai, S...     TV       51    9.25   \n",
       "3                                   Sci-Fi, Thriller     TV       24    9.17   \n",
       "4  Action, Comedy, Historical, Parody, Samurai, S...     TV       51    9.16   \n",
       "\n",
       "   members  \n",
       "0   200630  \n",
       "1   793665  \n",
       "2   114262  \n",
       "3   673572  \n",
       "4   151266  "
      ]
     },
     "execution_count": 3,
     "metadata": {},
     "output_type": "execute_result"
    }
   ],
   "source": [
    "# Import sample CSV as a pandas DataFrame\n",
    "df = pd.read_csv(r'C:\\Users\\(Ai)AiSukmoren\\Desktop\\powerbi + genai\\data\\anime.csv')\n",
    "\n",
    "# Display DataFrame\n",
    "df.head()"
   ]
  },
  {
   "cell_type": "markdown",
   "id": "e7d74b55",
   "metadata": {},
   "source": [
    "### Create quick Power BI visualization\n",
    "Run the code below to use the authentication object and DataFrame obtained above to create a Power BI report and render the report to the notebook.\n",
    "The output will be an autogenerated report within a few seconds. You can interact with the report, configure the data fields, edit the report layout, and save the report to Power BI.\n",
    "\n",
    "Learn more here - [Interacting with autogenerated \"quick\" reports](https://learn.microsoft.com/en-us/power-bi/create-reports/service-interact-quick-report)\n",
    "\n",
    "To create a new report, simply run the cells below again."
   ]
  },
  {
   "cell_type": "markdown",
   "id": "07198839",
   "metadata": {},
   "source": [
    "Create a report instance:"
   ]
  },
  {
   "cell_type": "code",
   "execution_count": 4,
   "id": "40bf4ad9",
   "metadata": {},
   "outputs": [
    {
     "name": "stdout",
     "output_type": "stream",
     "text": [
      "Quick visualize has loaded\n",
      "Quick visualize has rendered\n"
     ]
    }
   ],
   "source": [
    "# Create a Power BI report from your data\n",
    "PBI_visualize = QuickVisualize(get_dataset_config(df), auth=interactive_auth)"
   ]
  },
  {
   "cell_type": "markdown",
   "id": "7c440583",
   "metadata": {},
   "source": [
    "### Power BI event handlers"
   ]
  },
  {
   "cell_type": "markdown",
   "id": "9a0b58be",
   "metadata": {},
   "source": [
    "#### Set quick visualization loaded event handler"
   ]
  },
  {
   "cell_type": "code",
   "execution_count": 5,
   "id": "8690985f",
   "metadata": {},
   "outputs": [],
   "source": [
    "def loaded_callback(event_details):\n",
    "    print('Quick visualize has loaded')\n",
    "\n",
    "PBI_visualize.on('loaded', loaded_callback)"
   ]
  },
  {
   "cell_type": "markdown",
   "id": "c5f1fc92",
   "metadata": {},
   "source": [
    "#### Set quick visualization rendered event handler"
   ]
  },
  {
   "cell_type": "code",
   "execution_count": 6,
   "id": "7493d09e",
   "metadata": {},
   "outputs": [],
   "source": [
    "def rendered_callback(event_details):\n",
    "    print('Quick visualize has rendered')\n",
    "\n",
    "PBI_visualize.on('rendered', rendered_callback)"
   ]
  },
  {
   "cell_type": "markdown",
   "id": "93e2ffef",
   "metadata": {},
   "source": [
    "#### Set quick visualization saved event handler"
   ]
  },
  {
   "cell_type": "code",
   "execution_count": 7,
   "id": "1a8e6f86",
   "metadata": {},
   "outputs": [],
   "source": [
    "def saved_callback(event_details):\n",
    "    print('Quick visualize has saved the report')\n",
    "\n",
    "PBI_visualize.on('saved', saved_callback)"
   ]
  },
  {
   "cell_type": "code",
   "execution_count": 8,
   "id": "bb3d0946",
   "metadata": {},
   "outputs": [
    {
     "data": {
      "application/vnd.jupyter.widget-view+json": {
       "model_id": "14af9b3432814f4b9f0dc118aef7b55e",
       "version_major": 2,
       "version_minor": 0
      },
      "text/plain": [
       "QuickVisualize()"
      ]
     },
     "execution_count": 8,
     "metadata": {},
     "output_type": "execute_result"
    }
   ],
   "source": [
    "# Render new report\n",
    "PBI_visualize"
   ]
  }
 ],
 "metadata": {
  "kernelspec": {
   "display_name": "Python 3 (ipykernel)",
   "language": "python",
   "name": "python3"
  },
  "language_info": {
   "codemirror_mode": {
    "name": "ipython",
    "version": 3
   },
   "file_extension": ".py",
   "mimetype": "text/x-python",
   "name": "python",
   "nbconvert_exporter": "python",
   "pygments_lexer": "ipython3",
   "version": "3.9.13"
  },
  "toc-autonumbering": true,
  "varInspector": {
   "cols": {
    "lenName": 16,
    "lenType": 16,
    "lenVar": 40
   },
   "kernels_config": {
    "python": {
     "delete_cmd_postfix": "",
     "delete_cmd_prefix": "del ",
     "library": "var_list.py",
     "varRefreshCmd": "print(var_dic_list())"
    },
    "r": {
     "delete_cmd_postfix": ") ",
     "delete_cmd_prefix": "rm(",
     "library": "var_list.r",
     "varRefreshCmd": "cat(var_dic_list()) "
    }
   },
   "types_to_exclude": [
    "module",
    "function",
    "builtin_function_or_method",
    "instance",
    "_Feature"
   ],
   "window_display": false
  }
 },
 "nbformat": 4,
 "nbformat_minor": 5
}
